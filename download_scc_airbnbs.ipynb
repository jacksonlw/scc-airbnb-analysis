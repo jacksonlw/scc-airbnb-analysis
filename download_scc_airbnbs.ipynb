{
 "cells": [
  {
   "cell_type": "markdown",
   "metadata": {},
   "source": [
    "# Download Data from InsideAirbnb\n",
    "This file is used for download, cleaning, and formatting the data on Santa Clara County from InsideAirbnb. The final dataframe is saved as `listings.csv` in this directory."
   ]
  },
  {
   "cell_type": "code",
   "execution_count": 1,
   "metadata": {},
   "outputs": [],
   "source": [
    "import pandas as pd"
   ]
  },
  {
   "cell_type": "markdown",
   "metadata": {},
   "source": [
    "## Load Listings"
   ]
  },
  {
   "cell_type": "code",
   "execution_count": 2,
   "metadata": {},
   "outputs": [],
   "source": [
    "url = 'https://data.insideairbnb.com/united-states/ca/santa-clara-county/2024-12-23/data/listings.csv.gz'\n",
    "df = pd.read_csv(url, compression='gzip')\n",
    "df = df.set_index('id')"
   ]
  },
  {
   "cell_type": "markdown",
   "metadata": {},
   "source": [
    "## Clean Number of Features"
   ]
  },
  {
   "cell_type": "code",
   "execution_count": 3,
   "metadata": {},
   "outputs": [],
   "source": [
    "# Only keep the columns we need\n",
    "df = df[[\n",
    "    # Listing identification\n",
    "    'name', 'picture_url', \n",
    "    # Host descriptors (without identification)\n",
    "    'host_since', 'host_verifications', 'host_has_profile_pic', 'host_identity_verified', \n",
    "    # Listing descriptors\n",
    "    'latitude', 'longitude', 'property_type', 'room_type', 'accommodates', 'bathrooms', 'bedrooms', 'beds', 'amenities', 'price', 'minimum_nights', 'maximum_nights', \n",
    "    # Availability\n",
    "    'has_availability', 'availability_30', 'availability_60', 'availability_90', 'availability_365',\n",
    "    # Reviews\n",
    "    'number_of_reviews', 'review_scores_rating', 'review_scores_accuracy', 'review_scores_cleanliness', 'review_scores_checkin', 'review_scores_communication', 'review_scores_location', 'review_scores_value', 'instant_bookable', 'reviews_per_month']]"
   ]
  },
  {
   "cell_type": "markdown",
   "metadata": {},
   "source": [
    "## Remove Listings Without Price or Review Data"
   ]
  },
  {
   "cell_type": "code",
   "execution_count": 4,
   "metadata": {},
   "outputs": [],
   "source": [
    "# Remove listings with no price\n",
    "df = df[df['price'].notna()]\n",
    "\n",
    "# Remove listings with no review scores rating (based on analysis of missing values, all other review scores are missing if this is missing)\n",
    "df = df[df['review_scores_rating'].notna()]\n",
    "\n",
    "# At this point, only a few (10-15) entries contain missing values, we can just drop them.\n",
    "df = df[df.notna().any(axis=1)]"
   ]
  },
  {
   "cell_type": "markdown",
   "metadata": {},
   "source": [
    "## Fix Data Types"
   ]
  },
  {
   "cell_type": "code",
   "execution_count": 5,
   "metadata": {},
   "outputs": [],
   "source": [
    "# Convert price to float\n",
    "df['price'] = df['price'].str.replace('$', '').str.replace(',', '').astype(float)\n",
    "\n",
    "\n",
    "# Remove outliers above mean + 3 * standard deviation\n",
    "threshold = df['price'].mean() + 3 * df['price'].std()\n",
    "df = df[df['price'] < threshold]\n",
    "\n",
    "\n",
    "# Replace single quotes with double quotes to make it valid JSON\n",
    "df['host_verifications'] = df['host_verifications'].str.replace(\"'\", '\"')  "
   ]
  },
  {
   "cell_type": "markdown",
   "metadata": {},
   "source": [
    "## Export to CSV"
   ]
  },
  {
   "cell_type": "code",
   "execution_count": 6,
   "metadata": {},
   "outputs": [],
   "source": [
    "df.to_csv('scc_airbnbs.csv')"
   ]
  }
 ],
 "metadata": {
  "kernelspec": {
   "display_name": ".venv",
   "language": "python",
   "name": "python3"
  },
  "language_info": {
   "codemirror_mode": {
    "name": "ipython",
    "version": 3
   },
   "file_extension": ".py",
   "mimetype": "text/x-python",
   "name": "python",
   "nbconvert_exporter": "python",
   "pygments_lexer": "ipython3",
   "version": "3.13.1"
  }
 },
 "nbformat": 4,
 "nbformat_minor": 2
}
